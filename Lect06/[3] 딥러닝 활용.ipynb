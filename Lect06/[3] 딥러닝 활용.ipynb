{
 "cells": [
  {
   "cell_type": "code",
   "execution_count": null,
   "metadata": {},
   "outputs": [],
   "source": [
    "\"\"\"\n",
    "https://keras.io/api/applications/\n",
    "\"\"\""
   ]
  },
  {
   "cell_type": "code",
   "execution_count": 1,
   "metadata": {},
   "outputs": [
    {
     "name": "stdout",
     "output_type": "stream",
     "text": [
      "Downloading data from https://storage.googleapis.com/tensorflow/keras-applications/resnet/resnet50_weights_tf_dim_ordering_tf_kernels.h5\n",
      "102973440/102967424 [==============================] - 5s 0us/step\n"
     ]
    }
   ],
   "source": [
    "from tensorflow.keras.applications.resnet50 import ResNet50\n",
    "from tensorflow.keras.preprocessing import image\n",
    "from tensorflow.keras.applications.resnet50 import preprocess_input, decode_predictions\n",
    "import numpy as np\n",
    "\n",
    "model = ResNet50(weights='imagenet')"
   ]
  },
  {
   "cell_type": "code",
   "execution_count": null,
   "metadata": {},
   "outputs": [],
   "source": [
    "\"\"\"\n",
    "이미지 파일의 경로를 입력으로 받아서, 딥러닝으로 처리할 수 있는\n",
    "형식의 데이터로 변환하는 함수\n",
    "\"\"\"\n",
    "def getImage(img_path):\n",
    "    img = image.load_img(img_path, target_size=(224, 224))\n",
    "    x = image.img_to_array(img)\n",
    "    x = np.expand_dims(x, axis=0)\n",
    "    x = preprocess_input(x)\n",
    "    return x"
   ]
  },
  {
   "cell_type": "code",
   "execution_count": 36,
   "metadata": {},
   "outputs": [
    {
     "name": "stdout",
     "output_type": "stream",
     "text": [
      "Predicted: [('n02504458', 'African_elephant', 0.64553386), ('n02504013', 'Indian_elephant', 0.16385579), ('n01871265', 'tusker', 0.14455852)]\n"
     ]
    }
   ],
   "source": [
    "x = getImage('photos/African-Elephant.jpg')\n",
    "preds = model.predict(x)\n",
    "# decode the results into a list of tuples (class, description, probability)\n",
    "# (one such list for each sample in the batch)\n",
    "print('Predicted:', decode_predictions(preds, top=3)[0])"
   ]
  },
  {
   "cell_type": "code",
   "execution_count": 37,
   "metadata": {},
   "outputs": [
    {
     "name": "stdout",
     "output_type": "stream",
     "text": [
      "Predicted: [('n03770679', 'minivan', 0.3181217), ('n03100240', 'convertible', 0.1209526), ('n04285008', 'sports_car', 0.11328622)]\n"
     ]
    }
   ],
   "source": [
    "x = getImage('photos/Hyundai-Car.jpg')\n",
    "preds = model.predict(x)\n",
    "# decode the results into a list of tuples (class, description, probability)\n",
    "# (one such list for each sample in the batch)\n",
    "print('Predicted:', decode_predictions(preds, top=3)[0])"
   ]
  },
  {
   "cell_type": "code",
   "execution_count": 6,
   "metadata": {},
   "outputs": [
    {
     "name": "stdout",
     "output_type": "stream",
     "text": [
      "Predicted: [('n02981792', 'catamaran', 0.5131503), ('n04273569', 'speedboat', 0.15892091), ('n04483307', 'trimaran', 0.09697211)]\n"
     ]
    }
   ],
   "source": [
    "x = getImage('photos/Boat.jpg')\n",
    "preds = model.predict(x)\n",
    "# decode the results into a list of tuples (class, description, probability)\n",
    "# (one such list for each sample in the batch)\n",
    "print('Predicted:', decode_predictions(preds, top=3)[0])"
   ]
  },
  {
   "cell_type": "code",
   "execution_count": 38,
   "metadata": {},
   "outputs": [
    {
     "name": "stdout",
     "output_type": "stream",
     "text": [
      "Predicted: [('n02099601', 'golden_retriever', 0.9894079), ('n02108551', 'Tibetan_mastiff', 0.0025485815), ('n02099712', 'Labrador_retriever', 0.0025160494)]\n"
     ]
    }
   ],
   "source": [
    "x = getImage('photos/Dog.jpg')\n",
    "preds = model.predict(x)\n",
    "# decode the results into a list of tuples (class, description, probability)\n",
    "# (one such list for each sample in the batch)\n",
    "print('Predicted:', decode_predictions(preds, top=3)[0])"
   ]
  },
  {
   "cell_type": "code",
   "execution_count": 39,
   "metadata": {},
   "outputs": [
    {
     "name": "stdout",
     "output_type": "stream",
     "text": [
      "Predicted: [('n01484850', 'great_white_shark', 0.31453675), ('n01491361', 'tiger_shark', 0.29962888), ('n02640242', 'sturgeon', 0.10076494)]\n"
     ]
    }
   ],
   "source": [
    "x = getImage('photos/Dolphin.jpg')\n",
    "preds = model.predict(x)\n",
    "# decode the results into a list of tuples (class, description, probability)\n",
    "# (one such list for each sample in the batch)\n",
    "print('Predicted:', decode_predictions(preds, top=3)[0])"
   ]
  },
  {
   "cell_type": "code",
   "execution_count": 40,
   "metadata": {},
   "outputs": [
    {
     "name": "stdout",
     "output_type": "stream",
     "text": [
      "Predicted: [('n02389026', 'sorrel', 0.9898683), ('n02087394', 'Rhodesian_ridgeback', 0.0035390763), ('n03803284', 'muzzle', 0.0025524702)]\n"
     ]
    }
   ],
   "source": [
    "x = getImage('photos/Horse.jpg')\n",
    "preds = model.predict(x)\n",
    "# decode the results into a list of tuples (class, description, probability)\n",
    "# (one such list for each sample in the batch)\n",
    "print('Predicted:', decode_predictions(preds, top=3)[0])"
   ]
  },
  {
   "cell_type": "code",
   "execution_count": 41,
   "metadata": {},
   "outputs": [
    {
     "name": "stdout",
     "output_type": "stream",
     "text": [
      "Predicted: [('n02840245', 'binder', 0.5506164), ('n03291819', 'envelope', 0.18445045), ('n04118776', 'rule', 0.04524983)]\n"
     ]
    }
   ],
   "source": [
    "x = getImage('photos/Notebook.jpg')\n",
    "preds = model.predict(x)\n",
    "# decode the results into a list of tuples (class, description, probability)\n",
    "# (one such list for each sample in the batch)\n",
    "print('Predicted:', decode_predictions(preds, top=3)[0])"
   ]
  },
  {
   "cell_type": "code",
   "execution_count": 42,
   "metadata": {},
   "outputs": [
    {
     "name": "stdout",
     "output_type": "stream",
     "text": [
      "Predicted: [('n03832673', 'notebook', 0.76306206), ('n03180011', 'desktop_computer', 0.11635878), ('n03642806', 'laptop', 0.0823711)]\n"
     ]
    }
   ],
   "source": [
    "x = getImage('photos/Laptop.jpg')\n",
    "preds = model.predict(x)\n",
    "# decode the results into a list of tuples (class, description, probability)\n",
    "# (one such list for each sample in the batch)\n",
    "print('Predicted:', decode_predictions(preds, top=3)[0])"
   ]
  },
  {
   "cell_type": "code",
   "execution_count": 43,
   "metadata": {},
   "outputs": [
    {
     "name": "stdout",
     "output_type": "stream",
     "text": [
      "Predicted: [('n03584254', 'iPod', 0.62742835), ('n03777754', 'modem', 0.14755061), ('n02747177', 'ashcan', 0.088743255)]\n"
     ]
    }
   ],
   "source": [
    "x = getImage('photos/Phone.jpeg')\n",
    "preds = model.predict(x)\n",
    "# decode the results into a list of tuples (class, description, probability)\n",
    "# (one such list for each sample in the batch)\n",
    "print('Predicted:', decode_predictions(preds, top=3)[0])"
   ]
  },
  {
   "cell_type": "code",
   "execution_count": 44,
   "metadata": {},
   "outputs": [
    {
     "name": "stdout",
     "output_type": "stream",
     "text": [
      "Predicted: [('n04141327', 'scabbard', 0.2305725), ('n04228054', 'ski', 0.14168279), ('n03873416', 'paddle', 0.110634014)]\n"
     ]
    }
   ],
   "source": [
    "x = getImage('photos/Skateboard.jpg')\n",
    "preds = model.predict(x)\n",
    "# decode the results into a list of tuples (class, description, probability)\n",
    "# (one such list for each sample in the batch)\n",
    "print('Predicted:', decode_predictions(preds, top=3)[0])"
   ]
  },
  {
   "cell_type": "code",
   "execution_count": 45,
   "metadata": {},
   "outputs": [
    {
     "name": "stdout",
     "output_type": "stream",
     "text": [
      "Predicted: [('n04228054', 'ski', 0.98741084), ('n04019541', 'puck', 0.006447056), ('n04208210', 'shovel', 0.001882782)]\n"
     ]
    }
   ],
   "source": [
    "x = getImage('photos/SkiPerson.jpg')\n",
    "preds = model.predict(x)\n",
    "# decode the results into a list of tuples (class, description, probability)\n",
    "# (one such list for each sample in the batch)\n",
    "print('Predicted:', decode_predictions(preds, top=3)[0])"
   ]
  },
  {
   "cell_type": "code",
   "execution_count": 46,
   "metadata": {},
   "outputs": [
    {
     "name": "stdout",
     "output_type": "stream",
     "text": [
      "Predicted: [('n02802426', 'basketball', 0.98371845), ('n04540053', 'volleyball', 0.007706353), ('n03623198', 'knee_pad', 0.0020533553)]\n"
     ]
    }
   ],
   "source": [
    "x = getImage('photos/BasketBall.jpg')\n",
    "preds = model.predict(x)\n",
    "# decode the results into a list of tuples (class, description, probability)\n",
    "# (one such list for each sample in the batch)\n",
    "print('Predicted:', decode_predictions(preds, top=3)[0])"
   ]
  },
  {
   "cell_type": "code",
   "execution_count": null,
   "metadata": {},
   "outputs": [],
   "source": []
  }
 ],
 "metadata": {
  "kernelspec": {
   "display_name": "Python 3",
   "language": "python",
   "name": "python3"
  },
  "language_info": {
   "codemirror_mode": {
    "name": "ipython",
    "version": 3
   },
   "file_extension": ".py",
   "mimetype": "text/x-python",
   "name": "python",
   "nbconvert_exporter": "python",
   "pygments_lexer": "ipython3",
   "version": "3.7.2"
  }
 },
 "nbformat": 4,
 "nbformat_minor": 4
}
