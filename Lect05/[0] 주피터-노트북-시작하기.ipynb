{
 "cells": [
  {
   "cell_type": "code",
   "execution_count": null,
   "metadata": {},
   "outputs": [],
   "source": [
    "# 파이썬 코드를 개발할 수 있는 Python3 노트북 입니다.\n",
    "# 위의 메뉴 버튼에서 '+' 를 누르면 '셀'을 추가할 수 있습니다. "
   ]
  },
  {
   "cell_type": "code",
   "execution_count": null,
   "metadata": {},
   "outputs": [],
   "source": [
    "# '+' 를 눌러서 새로운 셀이 생성된 모습 입니다.\n",
    "# 참고로, '#' 로 시작하는 행은 파이썬 실행에 영향을 주지 않습니다(=주석)"
   ]
  },
  {
   "cell_type": "code",
   "execution_count": null,
   "metadata": {},
   "outputs": [],
   "source": [
    "\"\"\"\n",
    "위의 메뉴 버튼에서 '>Run' 을 누르면 각 '셀'에 입력된 파이썬 코드를 \n",
    "실행하고, 그 결과를 확인할 수 있습니다.\n",
    "주석을 여러줄로 입력하려면, 이와 같이 따옴표 3개를 사용하세요\n",
    "\"\"\""
   ]
  },
  {
   "cell_type": "code",
   "execution_count": null,
   "metadata": {},
   "outputs": [],
   "source": [
    "# 페이지 상단의 \"Untitle\" 을 클릭하여, 노트북의 이름을 바꿀 수 있습니다.\n",
    "# 위의 메뉴 버튼에서 디스켓 모양을 누르면 변경 사항을 저장합니다."
   ]
  },
  {
   "cell_type": "code",
   "execution_count": 1,
   "metadata": {},
   "outputs": [
    {
     "name": "stdout",
     "output_type": "stream",
     "text": [
      "Hello world\n"
     ]
    }
   ],
   "source": [
    "# 문자열 출력하기 : 아래와 같이 입력 후, 'Run' 버튼을 클릭하세요\n",
    "print('Hello world')"
   ]
  },
  {
   "cell_type": "code",
   "execution_count": 2,
   "metadata": {},
   "outputs": [
    {
     "name": "stdout",
     "output_type": "stream",
     "text": [
      "8\n"
     ]
    }
   ],
   "source": [
    "# 계산 결과 출력하기 : 아래와 같이 입력 후, 'Run' 버튼을 클릭하세요\n",
    "print(3+5)"
   ]
  },
  {
   "cell_type": "code",
   "execution_count": null,
   "metadata": {},
   "outputs": [],
   "source": []
  }
 ],
 "metadata": {
  "kernelspec": {
   "display_name": "Python 3",
   "language": "python",
   "name": "python3"
  },
  "language_info": {
   "codemirror_mode": {
    "name": "ipython",
    "version": 3
   },
   "file_extension": ".py",
   "mimetype": "text/x-python",
   "name": "python",
   "nbconvert_exporter": "python",
   "pygments_lexer": "ipython3",
   "version": "3.6.8"
  }
 },
 "nbformat": 4,
 "nbformat_minor": 2
}
